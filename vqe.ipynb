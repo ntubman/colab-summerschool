{
  "nbformat": 4,
  "nbformat_minor": 0,
  "metadata": {
    "colab": {
      "name": "Untitled0.ipynb",
      "provenance": [],
      "authorship_tag": "ABX9TyOTY2wkX9+bGdA+vOF3Q3qT",
      "include_colab_link": true
    },
    "kernelspec": {
      "name": "python3",
      "display_name": "Python 3"
    },
    "language_info": {
      "name": "python"
    }
  },
  "cells": [
    {
      "cell_type": "markdown",
      "metadata": {
        "id": "view-in-github",
        "colab_type": "text"
      },
      "source": [
        "<a href=\"https://colab.research.google.com/github/ntubman/colab-summerschool/blob/main/vqe.ipynb\" target=\"_parent\"><img src=\"https://colab.research.google.com/assets/colab-badge.svg\" alt=\"Open In Colab\"/></a>"
      ]
    },
    {
      "cell_type": "markdown",
      "source": [
        "** Labwork for Hamiltonian Simulation **\n",
        "\n"
      ],
      "metadata": {
        "id": "I81KSisuM6kE"
      }
    },
    {
      "cell_type": "markdown",
      "source": [
        "# VQE tutorials"
      ],
      "metadata": {
        "id": "8kXq-wBIM9zg"
      }
    },
    {
      "cell_type": "markdown",
      "source": [
        "When running in collab we need to install the libraries we need for the tutorial.  In the VQE tutorial, we will be installing qiskit and pyscf.  These commands generally take about 20 seconds to run."
      ],
      "metadata": {
        "id": "goAfwS6iNcnr"
      }
    },
    {
      "cell_type": "code",
      "source": [
        "!pip install qiskit"
      ],
      "metadata": {
        "id": "bFWukDNCwGvW",
        "collapsed": true
      },
      "execution_count": null,
      "outputs": []
    },
    {
      "cell_type": "code",
      "source": [
        "!pip install pyscf"
      ],
      "metadata": {
        "id": "YR2BV85svwdb"
      },
      "execution_count": null,
      "outputs": []
    },
    {
      "cell_type": "code",
      "execution_count": null,
      "metadata": {
        "id": "4gx7-iKSvZP1"
      },
      "outputs": [],
      "source": [
        "from qiskit.opflow import X, Y, Z\n",
        "from qiskit.circuit.library import EfficientSU2\n",
        "from qiskit.algorithms.optimizers import SPSA\n",
        "from qiskit.providers.basicaer import StatevectorSimulatorPy\n",
        "from qiskit.algorithms import VQE, NumPyMinimumEigensolver"
      ]
    },
    {
      "cell_type": "code",
      "source": [
        "%matplotlib inline\n",
        "import numpy as np\n",
        "import matplotlib.pyplot as plt"
      ],
      "metadata": {
        "id": "gkSXwM7epCHZ"
      },
      "execution_count": null,
      "outputs": []
    },
    {
      "cell_type": "markdown",
      "source": [
        "In this first example, we will be testing a hardware efficient ansatz for a toy hamiltonian on 3 qubits.   Below we first set a few parameters that will define our simulation, which includes the number of optimization runs and the number of qubits for our test Hamiltonian.  \n",
        "\n",
        "We create a simple Hamiltonian $H = Z_0 Z_1 Y_2 + X_0 Y_1 Z_2$\n",
        "\n",
        "In the following steps we will define a circuit ansatz, the Hamiltonian of interest, and an optimizer, which will all eventually be passed to the qiskit VQE algorithm."
      ],
      "metadata": {
        "id": "XIpmLG7NOrWX"
      }
    },
    {
      "cell_type": "code",
      "source": [
        "num_runs = 20\n",
        "num_qubits = 3\n",
        "hamiltonian = (Z ^ Z ^ Y) - (X ^ Y ^ Z)"
      ],
      "metadata": {
        "id": "3C1chAb4wYIk"
      },
      "execution_count": null,
      "outputs": []
    },
    {
      "cell_type": "markdown",
      "source": [
        "Using qiskit routines, we can take the Hamiltonian above and calculate the lowest eigenvalue.  This is done purely in terms of matrices in these steps and is done without approximation.  The input to the following functions on requires us to pase the hamiltonian ot the numpy eigen solver. "
      ],
      "metadata": {
        "id": "KJzMT5F_PqGk"
      }
    },
    {
      "cell_type": "code",
      "source": [
        "exact_solver = NumPyMinimumEigensolver()\n",
        "exact_groundstate_energy = exact_solver.compute_minimum_eigenvalue(hamiltonian).eigenvalue.real\n",
        "print(f'Exact groundstate eigenvalue: {exact_groundstate_energy:.4f}')"
      ],
      "metadata": {
        "id": "I5Zqea87odR1"
      },
      "execution_count": null,
      "outputs": []
    },
    {
      "cell_type": "markdown",
      "source": [
        "At this step we define the ansatz.  For our toy Hamiltonian we will use a hardware efficient ansatz.  With such an ansatz gates are layered with they hope that a wide range of states may be obtained.  A single layer of a variational form specifies a certain pattern of single qubit rotations and CX gates.  The depth determines how many variational parameters we will have.  The more variational parameters, the longer the circuit but also the more accuracte the circuit.  In the following fuction, EfficientSU2, we have to specify the number of qubits, the number of layers, and the geometry of the underlying qubits for determining which edges the 2 qubit gates are connected."
      ],
      "metadata": {
        "id": "RpS3WQNDQrtT"
      }
    },
    {
      "cell_type": "code",
      "source": [
        "# VQE ansatz definition\n",
        "ansatz = EfficientSU2(num_qubits,reps=2, entanglement='linear')"
      ],
      "metadata": {
        "id": "rDI1Go2Wom4A"
      },
      "execution_count": null,
      "outputs": []
    },
    {
      "cell_type": "markdown",
      "source": [
        "We will now define the optimizer to SPSA.   We also define random starting parameters for the circuit ansatz here.  We will be investigating different starting points for the circuit ansatz as one of the exercises.  Note that we are starting maxiter=50, which can be adjusted later to allow the optimizer to perform more optimization steps if needed."
      ],
      "metadata": {
        "id": "2Nf1lAx-Rtoe"
      }
    },
    {
      "cell_type": "code",
      "source": [
        "optimizer = SPSA(maxiter=50)\n",
        "initial_point = np.random.random(ansatz.num_parameters)"
      ],
      "metadata": {
        "id": "HdnkA1NFotMM"
      },
      "execution_count": null,
      "outputs": []
    },
    {
      "cell_type": "markdown",
      "source": [
        "Now we pass in our setup to the VQE algorithm in Qiskit."
      ],
      "metadata": {
        "id": "tNJxL2whTRba"
      }
    },
    {
      "cell_type": "code",
      "source": [
        "vqe = VQE(ansatz=ansatz,\n",
        "          optimizer=optimizer,\n",
        "          initial_point=initial_point,\n",
        "          # quantum_instance=QasmSimulatorPy())\n",
        "          quantum_instance=StatevectorSimulatorPy())"
      ],
      "metadata": {
        "id": "2V-XZ2oto1Il"
      },
      "execution_count": null,
      "outputs": []
    },
    {
      "cell_type": "markdown",
      "source": [
        "VQE involves an optimization step, which is the next part of the tutorial.  Optimization isn't always straightforward, and even when optimizing on classical hardware without noise, local minimum are often a concern.   In the following we run our VQE optimization multiple times, and print out the result.  "
      ],
      "metadata": {
        "id": "mG97cchaVZrW"
      }
    },
    {
      "cell_type": "code",
      "source": [
        "    # Iterate VQE calculation to find a good optimized circuit\n",
        "    optimal_vqe_result = vqe.compute_minimum_eigenvalue(hamiltonian)\n",
        "    enevals = [optimal_vqe_result.eigenvalue.real]\n",
        "    diffvals = [optimal_vqe_result.eigenvalue.real - exact_groundstate_energy]\n",
        "    print('Starting VQE runs...')\n",
        "    for ii in range(num_runs):\n",
        "\n",
        "        # Generate a new initial point for the VQE\n",
        "        new_initial_point = np.random.random(ansatz.num_parameters)\n",
        "        vqe.initial_point = new_initial_point\n",
        "\n",
        "        # Calculate the minimum eigenvalue\n",
        "        current_vqe_result = vqe.compute_minimum_eigenvalue(hamiltonian)\n",
        "             \n",
        "        print(f'Finished VQE run {ii + 1}/{num_runs}.', end=\"\\n\")\n",
        "  \n",
        "        current_diff = np.abs(current_vqe_result.eigenvalue.real - exact_groundstate_energy)\n",
        "        optimal_diff = np.abs(optimal_vqe_result.eigenvalue.real - exact_groundstate_energy)\n",
        "        \n",
        "        enevals.append(current_vqe_result.eigenvalue.real)\n",
        "        diffvals.append(current_diff)\n",
        "\n",
        "        print('current_ene',current_vqe_result.eigenvalue.real)\n",
        "        print('current_diff',current_diff, '\\n')\n",
        "\n",
        "        if current_diff < optimal_diff:\n",
        "            optimal_vqe_result = current_vqe_result\n"
      ],
      "metadata": {
        "id": "wFTH3r6YrK0H"
      },
      "execution_count": null,
      "outputs": []
    },
    {
      "cell_type": "markdown",
      "source": [
        "Lets plot the individual optimizations and see what sort of variation we get for the energies."
      ],
      "metadata": {
        "id": "dmM_6AZfLwIe"
      }
    },
    {
      "cell_type": "code",
      "source": [
        "plt.figure(figsize=(10,8))\n",
        "plt.plot(enevals, label='VQE energies',marker='.',linestyle='None',markersize=10.0)\n",
        "plt.axhline(exact_groundstate_energy,color='r')\n",
        "plt.xlabel('Optimization', fontsize=15)\n",
        "plt.ylabel('Energy', fontsize=15)\n",
        "plt.legend(loc='best', fontsize=15)\n",
        "plt.show()"
      ],
      "metadata": {
        "id": "2B7Y7GT2JXpK"
      },
      "execution_count": null,
      "outputs": []
    },
    {
      "cell_type": "markdown",
      "source": [
        "We see a large scatter of the data, but we also see a lot of optimizations near the ground state energy.  Lets sort our data and replot."
      ],
      "metadata": {
        "id": "LWeS8gQXL9Rt"
      }
    },
    {
      "cell_type": "code",
      "source": [
        "enevals.sort()\n",
        "plt.figure(figsize=(10,8))\n",
        "plt.plot(enevals, label='VQE energies',marker='.',linestyle='None',markersize=10.0)\n",
        "plt.axhline(exact_groundstate_energy,color='r')\n",
        "plt.xlabel('Optimization', fontsize=15)\n",
        "plt.ylabel('Energy', fontsize=15)\n",
        "plt.legend(loc='best', fontsize=15)\n",
        "plt.show()"
      ],
      "metadata": {
        "id": "IWTTWTciMtSL"
      },
      "execution_count": null,
      "outputs": []
    },
    {
      "cell_type": "markdown",
      "source": [
        "From this data we can see that a lot of the optimizations get close to the exact answer, but also a lot of values might be far away. \n",
        "\n",
        "It is important to consider why this is happening.  We have already mentioned there might be local minima, but for this simple example, that is less likely to be the issue.  More likley we are stopping the optimization before it finishes (with the maxiter variable set to 50).   As an exercise one may consider increasing this value and reploting the distribution of energies.  Do all the values converge to near the optimal energy with increasing maxiter?   \n",
        "\n",
        "We note here that it is important to make sure an optimization has converged before stopping a run. There are lots of techniques described in the literature that describe this further.  However, for more complicated examples there is no guarantee that one will find the global minimia. "
      ],
      "metadata": {
        "id": "SZIEEhOAM8Dt"
      }
    },
    {
      "cell_type": "markdown",
      "source": [
        "Exercise:   Rerun the previous examples with varying number of layers in the hardware efficient ansatz.   For example, try with 4 layers with 20 optimization runs.   Plot the average and best results as a function of layers.  Do you get better results with increased number of layers?   In general we expect that more complex circuits will lead to better results, but there is always the possibility we will need to more resources to optimize such an ansatz.  The situation is even more difficult when one includes noise into the optmization."
      ],
      "metadata": {
        "id": "lRmutYCMXRGz"
      }
    },
    {
      "cell_type": "markdown",
      "source": [
        "### VQE Molecular Example"
      ],
      "metadata": {
        "id": "3MM5vsb3v-tC"
      }
    },
    {
      "cell_type": "markdown",
      "source": [
        "When running VQE for molecular systems, we need to install the qiskit nature library. This should take under 10 seconds to run."
      ],
      "metadata": {
        "id": "BZxGJucjYzUZ"
      }
    },
    {
      "cell_type": "code",
      "source": [
        "!pip install qiskit_nature"
      ],
      "metadata": {
        "id": "5jPR20pPr57p"
      },
      "execution_count": null,
      "outputs": []
    },
    {
      "cell_type": "code",
      "source": [
        "from qiskit_nature.drivers import Molecule\n",
        "from qiskit_nature.drivers.second_quantization import (\n",
        "    ElectronicStructureDriverType,\n",
        "    ElectronicStructureMoleculeDriver,\n",
        ")\n",
        "from qiskit_nature.problems.second_quantization.electronic import ElectronicStructureProblem\n",
        "from qiskit_nature.converters.second_quantization import QubitConverter\n",
        "from qiskit_nature.mappers.second_quantization import ParityMapper, JordanWignerMapper\n",
        "from qiskit_nature.properties.second_quantization.electronic import ParticleNumber\n",
        "from qiskit_nature.transformers.second_quantization.electronic import ActiveSpaceTransformer\n",
        "\n",
        "from qiskit_nature.algorithms import VQEUCCFactory\n",
        "from qiskit_nature.circuit.library import UCCSD, HartreeFock\n",
        "from qiskit_nature.algorithms.ground_state_solvers import GroundStateEigensolver\n",
        "from qiskit.algorithms import NumPyMinimumEigensolver, VQE\n",
        "from qiskit.circuit.library import EfficientSU2, ExcitationPreserving\n",
        "\n",
        "\n",
        "from qiskit.providers.basicaer import StatevectorSimulatorPy  # local simulator\n",
        "from qiskit.providers.aer import StatevectorSimulator"
      ],
      "metadata": {
        "id": "8MYu4Z1Tx-cq"
      },
      "execution_count": null,
      "outputs": []
    },
    {
      "cell_type": "markdown",
      "source": [
        "When running a molecular system, in general one starts off with the geometry, charge, and spin of the molecular system of interest.   We are going to start by looking at Lithum Hydride, near equilibrium, neutral charge,  in a spin singlet configuration.    The following two lines are used to specify this.  Note that the center of origin for the geomtry of the molecule is arbitrary, and in this case we set the Li atom at the origin, and displace the Hydrogen atom along the z-axis."
      ],
      "metadata": {
        "id": "wVWFSdg_ZOsm"
      }
    },
    {
      "cell_type": "code",
      "source": [
        "bond_distance = 1.5949  # in Angstrom"
      ],
      "metadata": {
        "id": "sS4lx4JQyRTr"
      },
      "execution_count": null,
      "outputs": []
    },
    {
      "cell_type": "code",
      "source": [
        "molecule = Molecule(\n",
        "    geometry=[[\"Li\", [0.0, 0.0, 0.0]], [\"H\", [0.0, 0.0, bond_distance]]], charge=0, multiplicity=1\n",
        ")\n"
      ],
      "metadata": {
        "id": "nNC7iLtPyubH"
      },
      "execution_count": null,
      "outputs": []
    },
    {
      "cell_type": "markdown",
      "source": [
        "We are now prepared to call Pyscf.  Pyscf is an external electronic structure library that can be called by Qiskit.  Other libraries are also compatible with Qiskit.\n",
        "\n",
        "To run quantum chemistry instances on quantum computers, in most cases it is necessary to run a mean field simulation to generate the second quantized operators over a set of orthonormal orbitals.   The following two lines uses a Qiskit wrapper to make this call to pyscf and import all the information necessary to create the Hamiltonian.   \n",
        "\n",
        "Note that one of the inputs here is 'basis'.  The input used here is sto3g, which is a minimal basis that creates a toy model of the LiH molecule.  Other more realistic basis sets that one might want to study include the Dunning basis sets.  However, the sto3g basis is a 12 qubit example, and the Dunning basis sets are in general much bigger, and not suitable to run in this tutorial."
      ],
      "metadata": {
        "id": "Bc4AC2uGZvwX"
      }
    },
    {
      "cell_type": "code",
      "source": [
        "driver = ElectronicStructureMoleculeDriver(\n",
        "    molecule, basis=\"sto3g\", driver_type=ElectronicStructureDriverType.AUTO\n",
        ")"
      ],
      "metadata": {
        "id": "svOeLTiJy1rN"
      },
      "execution_count": null,
      "outputs": []
    },
    {
      "cell_type": "code",
      "source": [
        "properties = driver.run()"
      ],
      "metadata": {
        "id": "n18k9dHjzFTm"
      },
      "execution_count": null,
      "outputs": []
    },
    {
      "cell_type": "markdown",
      "source": [
        "The following line prints out information that was returned by Pyscf.  Much of it is numerical data that can be ignored by the user.  However, there is a lot of information printed here that can be useful to better understand what is happening, and for debugging purposes when things go wrong.   Scroll through the properties  data and identify information related to the number of spin orbitals and number of particles. "
      ],
      "metadata": {
        "id": "cms1Xn9Bcswc"
      }
    },
    {
      "cell_type": "code",
      "source": [
        "print(properties)"
      ],
      "metadata": {
        "id": "3rgRcpYx_XoB"
      },
      "execution_count": null,
      "outputs": []
    },
    {
      "cell_type": "markdown",
      "source": [
        "The following lines provides use a transformation driver in Qiskit to make it easier to run model problems.   In many quantum chemistry simulations, to make things more feasible to run, one often freezes electrons or define limited active orbitals of which electrons can be excited to.  The following function, ActiveSpaceTransformer, takes in the number of particles, and the number of molecular orbitals, and uses its internal routines to define an active space calculation based on the input.  While active space simulations have to be performed carefully when trying to calculate realistic data,  for testing purposes one can expect Qiskit to provide a reasonable active space and freezing of electrons, at least for testing purposes.  In our case, we reduce our simulation from a 12 qubit (6 molecular oribital) simulation to a 6 qubit example.   While this redueces the overall accuracy of the simulation, it does allow us to test algorithms with reduced computational cost without having to worry to much about specifying all the details. "
      ],
      "metadata": {
        "id": "WG_ED9R1eKox"
      }
    },
    {
      "cell_type": "code",
      "source": [
        "\n",
        "\n",
        "particle_number = properties.get_property(ParticleNumber)\n",
        "\n",
        "# specify active space transformation\n",
        "active_space_trafo = ActiveSpaceTransformer(\n",
        "    num_electrons=particle_number.num_particles, num_molecular_orbitals=3\n",
        ")\n",
        "# define electronic structure problem\n",
        "problem = ElectronicStructureProblem(driver, transformers=[active_space_trafo])"
      ],
      "metadata": {
        "id": "3JY7SDipy5yb"
      },
      "execution_count": null,
      "outputs": []
    },
    {
      "cell_type": "markdown",
      "source": [
        "The following two lines are used to convert from the fermonic quantum chemistry Hamiltonian to a qubit operator."
      ],
      "metadata": {
        "id": "grXC_PJXfmes"
      }
    },
    {
      "cell_type": "code",
      "source": [
        "# construct qubit converter (parity mapping + 2-qubit reduction)\n",
        "qubit_converter = QubitConverter(ParityMapper(), two_qubit_reduction=True)"
      ],
      "metadata": {
        "id": "QRGfiE-Xzbto"
      },
      "execution_count": null,
      "outputs": []
    },
    {
      "cell_type": "code",
      "source": [
        "# Build the qubit Hamiltonian\n",
        "hamiltonian = qubit_converter.convert(problem.second_q_ops()[0], particle_number.num_particles)"
      ],
      "metadata": {
        "id": "G5oFzDnuzhG8"
      },
      "execution_count": null,
      "outputs": []
    },
    {
      "cell_type": "markdown",
      "source": [
        "We calcuate the exact solution in the following lines as benchmark data for our VQE simulations."
      ],
      "metadata": {
        "id": "UMgN-2xpgA7b"
      }
    },
    {
      "cell_type": "code",
      "source": [
        "# %% Exact Solution\n",
        "print('Starting ED calculation with NumPy solver...')\n",
        "exact_solver = NumPyMinimumEigensolver()\n",
        "exact_groundstate_solver = GroundStateEigensolver(qubit_converter, exact_solver)\n",
        "\n",
        "exact_result = exact_groundstate_solver.solve(problem)\n",
        "\n",
        "nuclear_repulsion_energy = exact_result.nuclear_repulsion_energy\n",
        "exact_groundstate_energy = np.real(exact_result.eigenenergies[0])\n",
        "\n",
        "print('Done')"
      ],
      "metadata": {
        "id": "dMXLbPo9znY8"
      },
      "execution_count": null,
      "outputs": []
    },
    {
      "cell_type": "markdown",
      "source": [
        "The following is used to define the ansatz, for which we are going to use a UCCSD ansatz.   We will use an initial state from our Hartree-Fock results to start our circuit, and we will use random paramters to setup our ansatz."
      ],
      "metadata": {
        "id": "kV3vxT-NhBAA"
      }
    },
    {
      "cell_type": "code",
      "source": [
        "print('Starting VQE Calculation...')\n",
        "# Define the desired ansatz\n",
        "initial_state = HartreeFock(problem.num_spin_orbitals, particle_number.num_particles, qubit_converter)\n",
        "\n",
        "# ansatz = ExcitationPreserving(hamiltonian.num_qubits, reps=1, initial_state=initial_state)\n",
        "# ansatz = EfficientSU2(reps=1, initial_state=initial_state)\n",
        "ansatz = UCCSD(qubit_converter=qubit_converter, num_particles=particle_number.num_particles,\n",
        "               num_spin_orbitals=problem.num_spin_orbitals, initial_state=initial_state)\n",
        "\n",
        "initial_point = np.random.random(ansatz.num_parameters)\n",
        "\n",
        "backend = StatevectorSimulatorPy()\n",
        "\n",
        "solver = VQE(ansatz=ansatz, initial_point=initial_point,quantum_instance=backend)\n",
        "\n",
        "calc = GroundStateEigensolver(qubit_converter, solver)"
      ],
      "metadata": {
        "id": "OOnp3MAKzvle"
      },
      "execution_count": null,
      "outputs": []
    },
    {
      "cell_type": "markdown",
      "source": [
        "The following lines runs a single optimization run of VQE in Qiskit"
      ],
      "metadata": {
        "id": "qOS43kQBiaKU"
      }
    },
    {
      "cell_type": "code",
      "source": [
        "vqe_result = calc.solve(problem)\n",
        "\n",
        "vqe_groundstate_energy = vqe_result.groundenergy\n",
        "vqe_abs_error = np.abs(vqe_groundstate_energy - exact_groundstate_energy)\n",
        "print('Done')\n",
        "print(f'Exact Groundstate Eigenvalue: {exact_groundstate_energy + nuclear_repulsion_energy:>}')\n",
        "print(f'VQE Absolute Error: {vqe_abs_error:.2e}')"
      ],
      "metadata": {
        "id": "pQ9cHSCn0HcU"
      },
      "execution_count": null,
      "outputs": []
    },
    {
      "cell_type": "markdown",
      "source": [
        "As before, local minimum are always a problem, and we will want to run multiple times."
      ],
      "metadata": {
        "id": "ftJ1TPHih1fL"
      }
    },
    {
      "cell_type": "code",
      "source": [
        "    # Iterate VQE calculation to find a good optimized circuit\n",
        "    optimal_vqe_result = solver.compute_minimum_eigenvalue(hamiltonian)\n",
        "    print('Starting VQE runs...')\n",
        "    ii = 0\n",
        "    for ii in range(num_runs):\n",
        "\n",
        "        # Generate a new initial point for the VQE\n",
        "        new_initial_point = np.random.random(ansatz.num_parameters)\n",
        "        solver.initial_point = new_initial_point\n",
        "\n",
        "        # Calculate the minimum eigenvalue\n",
        "        current_vqe_result = solver.compute_minimum_eigenvalue(hamiltonian)\n",
        "\n",
        "        print(f'Finished VQE run {ii + 1}/{num_runs}.', end=\"\\r\")\n",
        "\n",
        "        current_diff = np.abs(current_vqe_result.eigenvalue.real - exact_groundstate_energy)\n",
        "        optimal_diff = np.abs(optimal_vqe_result.eigenvalue.real - exact_groundstate_energy)\n",
        "        print('current_diff',current_diff, '\\n')\n",
        "\n",
        "        if current_diff < optimal_diff:\n",
        "            optimal_vqe_result = current_vqe_result"
      ],
      "metadata": {
        "id": "AdJoh1_10boM"
      },
      "execution_count": null,
      "outputs": []
    },
    {
      "cell_type": "markdown",
      "source": [
        "Exercise:  In general we want to calculate the energy as a function of bonding distance between two molecules.  \n",
        "Take the LiH example above, and calculate 10 points between 0.5 and 4 angstroms, both with the exact results and the UCCSD VQE results.   Plot your results(matplotlib)."
      ],
      "metadata": {
        "id": "YN6zK9kxjpml"
      }
    },
    {
      "cell_type": "markdown",
      "source": [
        "Exercise:  Stretching a bond in chemistry is much more difficult than calculating the energy at an equilbrium geometry.   To understand how this effects a quantum simulation, take the results from the previous exercise, and calculate the average error (over 20 optimizations) as a function of distance.  Plot your results(matplotlib)."
      ],
      "metadata": {
        "id": "wSMRNVABjKWp"
      }
    }
  ]
}