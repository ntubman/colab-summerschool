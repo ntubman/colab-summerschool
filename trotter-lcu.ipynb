{
  "cells": [
    {
      "cell_type": "markdown",
      "metadata": {
        "id": "IWcA4bCJl_l7"
      },
      "source": [
        "# Labwork for Hamiltonian Simulation"
      ]
    },
    {
      "cell_type": "code",
      "execution_count": null,
      "metadata": {
        "collapsed": true,
        "id": "o3fHlWsFl_l9"
      },
      "outputs": [],
      "source": [
        "%matplotlib inline\n",
        "import matplotlib.pyplot as plt\n",
        "import numpy as np\n",
        "import math\n",
        "\n",
        "from scipy.linalg import expm\n",
        "from tqdm import tqdm\n",
        "from functools import reduce\n",
        "\n",
        "import itertools"
      ]
    },
    {
      "cell_type": "markdown",
      "metadata": {
        "id": "m4EmB2a0l_l-"
      },
      "source": [
        "#### Trotterization"
      ]
    },
    {
      "cell_type": "markdown",
      "metadata": {
        "id": "I1B-dQPil_l-"
      },
      "source": [
        "First, we will see the effect of approximating the exponential of some Hamiltonian by the product of exponentials of each individual term, repeated several times, i.e.\n",
        "$$e^{-iHt} \\approx \\left(e^{-iH_1 t/n} e^{-iH_2 t/n} \\dots e^{-iH_m t/n}\\right)^n$$\n",
        "where $H = \\sum_{i=1}^{m} H_i$."
      ]
    },
    {
      "cell_type": "markdown",
      "metadata": {
        "id": "KFLQR48vl_l_"
      },
      "source": [
        "We will simulate this using numpy. First, let us define some helper functions."
      ]
    },
    {
      "cell_type": "code",
      "execution_count": null,
      "metadata": {
        "id": "ufD6kR1-l_l_"
      },
      "outputs": [],
      "source": [
        "idty = np.eye(2)\n",
        "x = np.array([[0,1],\n",
        "              [1,0]])\n",
        "y = np.array([[0,-1j],\n",
        "              [1j,0]])\n",
        "z = np.array([[1,0],\n",
        "              [0,-1]])\n",
        "\n",
        "def pauli_1q(op_str, i, N):\n",
        "    \"\"\"\n",
        "    op_str: operator on i-th qubit, one of 'X', 'Y', 'Z'\n",
        "    i: index of qubit (0th qubit is rightmost in the register)\n",
        "    N: total number of qubits\n",
        "    \"\"\"\n",
        "    global idty, x, y, z\n",
        "    d_str_op = {'X': x, 'Y': y, 'Z': z}\n",
        "    op_list = [idty]*(N-i-1) + [d_str_op[op_str]] + [idty]*i\n",
        "    return reduce(np.kron, op_list)\n",
        "\n",
        "def pauli_2q(op_str_i, op_str_j, i, j, N):\n",
        "    \"\"\"\n",
        "    op_str_i: operator on i-th qubit, one of 'X', 'Y', 'Z'\n",
        "    op_str_j: operator on j-th qubit, one of 'X', 'Y', 'Z'\n",
        "    i: index of i-th qubit (0th qubit is rightmost in the register)\n",
        "    j: index of j-th qubit (0th qubit is rightmost in the register)\n",
        "    N: total number of qubits\n",
        "    \"\"\"\n",
        "    global idty, x, y, z\n",
        "    d_str_op = {'X': x, 'Y': y, 'Z': z}\n",
        "    if i > j:\n",
        "        op_list = [idty]*(N-i-1) + [d_str_op[op_str_i]] + [idty]*(i-j-1) + [d_str_op[op_str_j]] + [idty]*j\n",
        "    else:\n",
        "        op_list = [idty]*(N-j-1) + [d_str_op[op_str_j]] + [idty]*(j-i-1) + [d_str_op[op_str_i]] + [idty]*i\n",
        "    return reduce(np.kron, op_list)\n",
        "\n",
        "def commutator(A, B):\n",
        "    return (A @ B) - (B @ A)\n",
        "\n",
        "def spectral_norm(A):\n",
        "    return np.linalg.norm(A, ord=2)"
      ]
    },
    {
      "cell_type": "markdown",
      "metadata": {
        "id": "X2bMvVupl_mA"
      },
      "source": [
        "Next, we create a rather simple Hamiltonian $H = X_0 X_1 + Y_0 Y_2 + Z_1 Z_2$, and compute the difference in the norms of the unitaries on either side of the approximation\n",
        "$$e^{-iHt} \\approx \\left(e^{-iX_0 X_1 t/n} e^{-i Y_0 Y_2 t/n} e^{-i Z_1 Z_2 t/n}\\right)^n$$\n",
        "for increasingly larger $n$ for a single unit of time $t=1$."
      ]
    },
    {
      "cell_type": "code",
      "execution_count": null,
      "metadata": {
        "id": "3_nRr-4Sl_mB"
      },
      "outputs": [],
      "source": [
        "# Create a toy Hamiltonian\n",
        "ham_term1 = pauli_2q('X', 'X', 0, 1, 3)\n",
        "ham_term2 = pauli_2q('Y', 'Y', 0, 2, 3)\n",
        "ham_term3 = pauli_2q('Z', 'Z', 1, 2, 3)\n",
        "ham = ham_term1 + ham_term2 + ham_term3\n",
        "\n",
        "t = 1\n",
        "n_list = list(range(1, 30+1, 1))\n",
        "\n",
        "exp_ham = expm(-1j*ham*t)\n",
        "norm_diffs_trotter = []\n",
        "\n",
        "for n in tqdm(n_list):\n",
        "    trotter_step = expm(-1j*ham_term1*t/n) @ expm(-1j*ham_term2*t/n) @ expm(-1j*ham_term3*t/n)\n",
        "    trotter = np.linalg.matrix_power(trotter_step, n)\n",
        "    diff_trotter = exp_ham - trotter\n",
        "    norm_diff_trotter = np.abs(spectral_norm(diff_trotter))\n",
        "    norm_diffs_trotter.append(norm_diff_trotter)\n",
        "    \n",
        "# print(min(norm_diffs_trotter))\n",
        "plt.figure(figsize=(10,8))\n",
        "plt.plot(n_list, norm_diffs_trotter, label='Trotter')\n",
        "plt.xlabel('No. of Trotter steps', fontsize=15)\n",
        "plt.ylabel('Error', fontsize=15)\n",
        "plt.legend(loc='best', fontsize=15)\n",
        "plt.show()"
      ]
    },
    {
      "cell_type": "markdown",
      "metadata": {
        "id": "Vh3oKaJSl_mB"
      },
      "source": [
        "Exercise: Repeat the same, except now do it with the higher order approximation<br>\n",
        "\n",
        "$$e^{-iHt} \\approx \\left( e^{-iX_0 X_1 t/2n} e^{-i Y_0 Y_2 t/2n} e^{-i Z_1 Z_2 t/n}e^{-i Y_0 Y_2 t/2n} e^{-iX_0 X_1 t/2n}\\right) $$\n",
        "\n",
        "for the same value of t and (range of values of) n. Plot the difference in the norms from both approaches, and verify that the higher order expression converges to lower error faster. Let's call this method \"Strang\" to distinguish it from the (lowest order) \"Trotter\" method above."
      ]
    },
    {
      "cell_type": "code",
      "execution_count": null,
      "metadata": {
        "id": "RoTiEmf-l_mC"
      },
      "outputs": [],
      "source": [
        "# Create a toy Hamiltonian\n",
        "ham_term1 = pauli_2q('X', 'X', 0, 1, 3)\n",
        "ham_term2 = pauli_2q('Y', 'Y', 0, 2, 3)\n",
        "ham_term3 = pauli_2q('Z', 'Z', 1, 2, 3)\n",
        "ham = ham_term1 + ham_term2 + ham_term3\n",
        "\n",
        "t = 1\n",
        "n_list = list(range(1, 30+1, 1))\n",
        "\n",
        "exp_ham = expm(-1j*ham*t)\n",
        "norm_diffs_trotter = []\n",
        "norm_diffs_strang = []\n",
        "\n",
        "for n in tqdm(n_list):\n",
        "    trotter_step = expm(-1j*ham_term1*t/n) @ expm(-1j*ham_term2*t/n) @ expm(-1j*ham_term3*t/n)\n",
        "    strang_step = #TODO\n",
        "\n",
        "    trotter = np.linalg.matrix_power(trotter_step, n)\n",
        "    strang = #TODO\n",
        "\n",
        "    diff_trotter = exp_ham - trotter\n",
        "    diff_strang = #TODO\n",
        "\n",
        "    norm_diff_trotter = np.abs(spectral_norm(diff_trotter))\n",
        "    norm_diff_strang = #TODO\n",
        "\n",
        "    norm_diffs_trotter.append(norm_diff_trotter)\n",
        "    norm_diffs_strang.append(norm_diff_strang)\n",
        "    \n",
        "print(min(norm_diffs_trotter))\n",
        "print(min(norm_diffs_strang))\n",
        "plt.figure(figsize=(10,8))\n",
        "plt.plot(n_list, norm_diffs_trotter, label='Trotter')\n",
        "plt.plot(n_list, norm_diffs_strang, label='Strang')\n",
        "plt.xlabel('No. of Trotter steps', fontsize=15)\n",
        "plt.ylabel('Error', fontsize=15)\n",
        "plt.legend(loc='best', fontsize=15)\n",
        "plt.show()"
      ]
    },
    {
      "cell_type": "markdown",
      "metadata": {
        "id": "lNjGRe1Gl_mC"
      },
      "source": [
        "#### LCU"
      ]
    },
    {
      "cell_type": "markdown",
      "metadata": {
        "id": "P6K2M_Tpl_mD"
      },
      "source": [
        "Next, we will explore sub-routines in the Linear Combination of Unitaries (LCU) and Qubitization methods. For this section, you will need pyQuil, so be sure to install it (https://pyquil-docs.rigetti.com/en/stable/start.html) if you haven't already."
      ]
    },
    {
      "cell_type": "code",
      "execution_count": null,
      "metadata": {
        "collapsed": true,
        "id": "TeUnjIKZl_mD"
      },
      "outputs": [],
      "source": [
        "from pyquil import Program, get_qc\n",
        "from pyquil.api import WavefunctionSimulator\n",
        "from pyquil.gates import *\n",
        "from pyquil.paulis import *"
      ]
    },
    {
      "cell_type": "markdown",
      "metadata": {
        "id": "6WFLKRyWl_mD"
      },
      "source": [
        "Recall that in the linear combination of unitaries (LCU) approach, as well as in qubitization, we require access to the unitary $U_{PREP}$ which acts as\n",
        "$$U_{PREP} = \\sum_{i=1}^{L} \\alpha_{i} \\vert i \\rangle$$\n",
        "where the Hamiltonian we wish to simulate is $H = \\sum_{i} \\alpha_i U_i$. W assume that $\\alpha_i > 0$ (absorb any phases into the unitaries $U_i$'s), so that we need a general method to prepare a state with some input real amplitudes, which we describe below."
      ]
    },
    {
      "cell_type": "markdown",
      "metadata": {
        "id": "qqGCPmyhl_mD"
      },
      "source": [
        "Given a quantum state with real amplitudes, how do we construct a circuit that would prepare such a state? As described in \"Transformation of quantum states using uniformly controlled rotations\" by Mottonen et al. (https://arxiv.org/pdf/quant-ph/0407010.pdf), we need to run the following series of controlled rotations:\n",
        "<img src=\"https://github.com/ntubman/summerschool/blob/main/oldlabs/lab1/Labs/uniformly_controlled_rotations.png?raw=1\" alt=\"Drawing\" style=\"width: 1000px;\"/>\n",
        "where the black dots denote the control qubit being in the state $\\vert 1 \\rangle$ and the white dots denote the control qubit being in the state $\\vert 0 \\rangle$."
      ]
    },
    {
      "cell_type": "markdown",
      "metadata": {
        "id": "2ZI_4PIEl_mE"
      },
      "source": [
        "The angles are to be calculated according to\n",
        "<img src=\"https://github.com/ntubman/summerschool/blob/main/oldlabs/lab1/Labs/beta_angles.png?raw=1\" alt=\"Drawing\" style=\"width: 400px;\"/>"
      ]
    },
    {
      "cell_type": "markdown",
      "metadata": {
        "id": "HTvvoUR2l_mE"
      },
      "source": [
        "Let us first write a function that can calculate the $\\beta$'s above."
      ]
    },
    {
      "cell_type": "code",
      "execution_count": null,
      "metadata": {
        "collapsed": true,
        "id": "VuXf0SOpl_mE"
      },
      "outputs": [],
      "source": [
        "def all_betas(amps):\n",
        "    \"\"\"\n",
        "    Given some real amplitudes, compute the RY angles needed to prepare this state\n",
        "\n",
        "    :return dict: key: (s, j), value: beta angle\n",
        "    \"\"\"\n",
        "    n = math.log(len(amps), 2)\n",
        "    assert np.isclose(n, int(n)), \"Specify 2^n amplitudes for some n\"\n",
        "    n = int(n)\n",
        "    d_betas = {}\n",
        "    for s in range(1, n + 1):\n",
        "        for j in range(1, 2**(n-s) + 1):\n",
        "            # calculate numerator\n",
        "            ### TODO\n",
        "            # calculate denominator\n",
        "            ### TODO\n",
        "            # avoid any pathological cases, e.g. if denominator = 0.0\n",
        "            if np.isclose(numerator, 0.0):\n",
        "                ratio = 0.0\n",
        "            else:\n",
        "                ratio = numerator / denominator\n",
        "            # ensure argument to arccos lies within domain [-1, 1]\n",
        "            if ratio > 1.0:\n",
        "                ratio = 1.0\n",
        "            elif ratio < -1.0:\n",
        "                ratio = -1.0\n",
        "            else:\n",
        "                pass\n",
        "            # finally, compute the beta angles\n",
        "            d_betas[s, j] = -2 * np.arcsin(ratio)\n",
        "    return d_betas"
      ]
    },
    {
      "cell_type": "markdown",
      "metadata": {
        "id": "ySw8B5Opl_mE"
      },
      "source": [
        "Following this, we now write a function that will encode a given classical vector into the amplitudes of a quantum state. For example, for a circuit that produces an equal superposition of 3-qubit states with amplitudes $1/\\sqrt{2^3}$, this would produce the following output (py)Quil program (even though for this simple case, we can simply perform Hadamards on all the qubits):<br>\n",
        "<br>\n",
        "RY(-1.5707963267948968) 2<br>\n",
        "CONTROLLED RY(-1.5707963267948963) 2 1<br>\n",
        "X 2<br>\n",
        "CONTROLLED RY(-1.5707963267948963) 2 1<br>\n",
        "X 2<br>\n",
        "CONTROLLED CONTROLLED RY(-1.5707963267948968) 2 1 0<br>\n",
        "X 1<br>\n",
        "CONTROLLED CONTROLLED RY(-1.5707963267948968) 2 1 0<br>\n",
        "X 1<br>\n",
        "X 2<br>\n",
        "CONTROLLED CONTROLLED RY(-1.5707963267948968) 2 1 0<br>\n",
        "X 2<br>\n",
        "X 1<br>\n",
        "X 2<br>\n",
        "CONTROLLED CONTROLLED RY(-1.5707963267948968) 2 1 0<br>\n",
        "X 2<br>\n",
        "X 1<br>"
      ]
    },
    {
      "cell_type": "code",
      "execution_count": null,
      "metadata": {
        "collapsed": true,
        "id": "o-ENBMSpl_mE"
      },
      "outputs": [],
      "source": [
        "def state_prep_prog(amps):\n",
        "    \"\"\"\n",
        "    Given some real amplitudes, compute the pyQuil Program needed to prepare this state\n",
        "    \n",
        "    :return Program: state preparation circuit\n",
        "    \"\"\"\n",
        "    n = math.log(len(amps), 2)\n",
        "    assert np.isclose(n, int(n)), \"Specify 2^n amplitudes for some n\"\n",
        "    n = int(n)\n",
        "    d_betas = all_betas(amps)\n",
        "    tot_prog = Program()\n",
        "    for s in range(n, 0, -1):\n",
        "        tot_js = 2**(n-s)\n",
        "        num_combs = math.log(tot_js, 2)\n",
        "        assert np.isclose(num_combs, int(num_combs)), \"Something went wrong\"\n",
        "        num_combs = int(num_combs)\n",
        "        all_combs = np.array(list(itertools.product([0, 1], repeat=num_combs)))\n",
        "        for j in range(1, tot_js + 1)[::-1]:\n",
        "            if len(all_combs) == 1:\n",
        "                tot_prog += Program(f\"RY({d_betas[s, j]}) {s-1}\")\n",
        "            else:\n",
        "                # pick the relevant combination, e.g. [0,0] or [0, 1] or [1, 0] or [1, 1] for two control qubits\n",
        "                comb = all_combs[j-1]\n",
        "                rot_oper_prog_str = f\"RY({d_betas[s, j]}) \"\n",
        "                rot_qub_prog_str = f\"{s-1}\"\n",
        "                flip_prog_strs = []\n",
        "                # this loops through the controlled operation, e.g. [0, 1] in the opposite direction\n",
        "                for x, cbit in enumerate(comb[::-1]):\n",
        "                    if cbit == 0:\n",
        "                        flip_prog_strs += [f\"X {s+x}\"]\n",
        "                    else:\n",
        "                        pass\n",
        "                    rot_oper_prog_str = # TODO\n",
        "                    rot_qub_prog_str = # TODO\n",
        "                rot_prog_str = rot_oper_prog_str + rot_qub_prog_str\n",
        "                tot_prog += Program(flip_prog_strs) + Program(rot_prog_str) + Program(flip_prog_strs[::-1])\n",
        "\n",
        "    return tot_prog"
      ]
    },
    {
      "cell_type": "markdown",
      "metadata": {
        "id": "LoRxjdybl_mF"
      },
      "source": [
        "To check the correctness of our implementation, we will test the functions above against random amplitudes."
      ]
    },
    {
      "cell_type": "code",
      "execution_count": null,
      "metadata": {
        "collapsed": true,
        "id": "KgoGrX2yl_mF"
      },
      "outputs": [],
      "source": [
        "wfn_sim = WavefunctionSimulator()"
      ]
    },
    {
      "cell_type": "code",
      "execution_count": null,
      "metadata": {
        "collapsed": true,
        "id": "a13DHgVHl_mF"
      },
      "outputs": [],
      "source": [
        "def random_amplitudes(num_qubits=3):\n",
        "    N = 2**num_qubits\n",
        "    amps = np.random.uniform(low=0.0, high=1.0, size=N)\n",
        "    amps *= 1 / np.sqrt(np.sum(np.abs(amps)**2))\n",
        "    assert np.isclose(np.sum(np.abs(amps)**2), 1.0), \"Amplitudes do not square-sum to 1\"\n",
        "    return amps"
      ]
    },
    {
      "cell_type": "code",
      "execution_count": null,
      "metadata": {
        "id": "YBfnQZmdl_mF"
      },
      "outputs": [],
      "source": [
        "n_trials = 100\n",
        "\n",
        "for _ in tqdm(range(n_trials)):\n",
        "\n",
        "    # draw some random real amplitudes\n",
        "    amps = random_amplitudes()\n",
        "\n",
        "    # create the state prep Program corresponding to these amplitudes\n",
        "    prep_prog = state_prep_prog(amps)\n",
        "    wfn = wfn_sim.wavefunction(prep_prog)\n",
        "\n",
        "    # compare the outcome probabilities resulting from the state prep Program\n",
        "    # with the expected probabilities\n",
        "    outcome_probs = list(wfn.get_outcome_probs().values())\n",
        "    expected_probs = amps**2\n",
        "    assert np.allclose(expected_probs, outcome_probs), \"Measurement probabilities do not agree\""
      ]
    }
  ],
  "metadata": {
    "kernelspec": {
      "display_name": "Python 3 (ipykernel)",
      "language": "python",
      "name": "python3"
    },
    "language_info": {
      "codemirror_mode": {
        "name": "ipython",
        "version": 3
      },
      "file_extension": ".py",
      "mimetype": "text/x-python",
      "name": "python",
      "nbconvert_exporter": "python",
      "pygments_lexer": "ipython3",
      "version": "3.9.7"
    },
    "colab": {
      "name": "Hamiltonian_simulation_notebook.ipynb",
      "provenance": []
    }
  },
  "nbformat": 4,
  "nbformat_minor": 0
}